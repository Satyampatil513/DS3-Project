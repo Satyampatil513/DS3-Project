{
 "cells": [
  {
   "cell_type": "markdown",
   "id": "abcf7973",
   "metadata": {},
   "source": [
    "### the dataset contains 13 activities among which 4 activities are related to human falls and 9 are normal human activities.\n",
    "\n",
    "### 3 classes: Fall, Active and Ascension-Descension\n",
    "\n",
    "#### The fall activities are:\n",
    "#### FOL: Forward-lying. \n",
    "#### FKL: Forward knee-lying. \n",
    "#### SDL: Sideward-lying. \n",
    "#### BSC: Back sitting chair. \n",
    "\n",
    "#### Active:\n",
    "#### STD: Standing. \n",
    "#### WAL: Walking. \n",
    "#### JOG: Jogging. \n",
    "#### JUM: Jumping.\n",
    "\n",
    "#### Ascension-Descension:\n",
    "#### STU: Stairs up. \n",
    "#### STN: Stairs down. \n",
    "#### SCH: Sit chair. \n",
    "#### CSI: Car-step in. \n",
    "#### CSO: Car-step out"
   ]
  },
  {
   "cell_type": "code",
   "execution_count": null,
   "id": "d2372d1f",
   "metadata": {
    "vscode": {
     "languageId": "python"
    }
   },
   "outputs": [
    {
     "ename": "",
     "evalue": "",
     "output_type": "error",
     "traceback": [
      "\u001b[1;31mFailed to connect to the remote Jupyter Server 'http://localhost:8888/'. Verify the server is running and reachable. (request to http://localhost:8888/api/kernels?1669024494820 failed, reason: connect ECONNREFUSED 127.0.0.1:8888)."
     ]
    }
   ],
   "source": [
    "import pandas as pd\n",
    "import numpy as np\n",
    "import seaborn as sns\n",
    "import matplotlib.pyplot as plt"
   ]
  },
  {
   "cell_type": "markdown",
   "id": "fdcd2c27",
   "metadata": {},
   "source": [
    "# train data"
   ]
  },
  {
   "cell_type": "code",
   "execution_count": null,
   "id": "d69f8456",
   "metadata": {
    "vscode": {
     "languageId": "python"
    }
   },
   "outputs": [
    {
     "ename": "",
     "evalue": "",
     "output_type": "error",
     "traceback": [
      "\u001b[1;31mFailed to connect to the remote Jupyter Server 'http://localhost:8888/'. Verify the server is running and reachable. (request to http://localhost:8888/api/kernels?1669024494820 failed, reason: connect ECONNREFUSED 127.0.0.1:8888)."
     ]
    }
   ],
   "source": [
    "train = pd.read_csv(r\"C:\\Users\\sattu\\Desktop\\Ds3\\DS3-Project\\Train.csv\")\n"
   ]
  },
  {
   "cell_type": "code",
   "execution_count": null,
   "id": "9b92db89",
   "metadata": {
    "scrolled": true,
    "vscode": {
     "languageId": "python"
    }
   },
   "outputs": [
    {
     "ename": "",
     "evalue": "",
     "output_type": "error",
     "traceback": [
      "\u001b[1;31mFailed to connect to the remote Jupyter Server 'http://localhost:8888/'. Verify the server is running and reachable. (request to http://localhost:8888/api/kernels?1669024494820 failed, reason: connect ECONNREFUSED 127.0.0.1:8888)."
     ]
    }
   ],
   "source": [
    "train.head()"
   ]
  },
  {
   "cell_type": "markdown",
   "id": "266a4e64",
   "metadata": {},
   "source": [
    "## removing column 'fall' and renaming categories :\n",
    "##  0= fall ;1= active ; 2=ascending descending"
   ]
  },
  {
   "cell_type": "code",
   "execution_count": null,
   "id": "10261c7b",
   "metadata": {
    "vscode": {
     "languageId": "python"
    }
   },
   "outputs": [
    {
     "ename": "",
     "evalue": "",
     "output_type": "error",
     "traceback": [
      "\u001b[1;31mFailed to connect to the remote Jupyter Server 'http://localhost:8888/'. Verify the server is running and reachable. (request to http://localhost:8888/api/kernels?1669024494820 failed, reason: connect ECONNREFUSED 127.0.0.1:8888)."
     ]
    }
   ],
   "source": [
    "train=train.drop('fall',axis=1)\n",
    "\n",
    "fall=[\"FOL\",\"FKL\",\"SDL\",\"BSC\"]\n",
    "active=[\"STD\",\"WAL\",\"JOG\",\"JUM\"]\n",
    "asds=[\"STU\",\"STN\",\"SCH\",\"CSI\",\"CSO\"]\n",
    "\n",
    "act=[]\n",
    "\n",
    "for i in range (len(train)):\n",
    "    if train[\"label\"][i] in fall:\n",
    "        act.append(0)\n",
    "    elif train[\"label\"][i] in active:\n",
    "        act.append(1)\n",
    "    elif train[\"label\"][i] in asds:\n",
    "        act.append(2)\n",
    "train[\"activity\"]=act\n",
    "\n",
    "train.head()"
   ]
  },
  {
   "cell_type": "code",
   "execution_count": null,
   "id": "118c4bfc",
   "metadata": {
    "vscode": {
     "languageId": "python"
    }
   },
   "outputs": [
    {
     "ename": "",
     "evalue": "",
     "output_type": "error",
     "traceback": [
      "\u001b[1;31mFailed to connect to the remote Jupyter Server 'http://localhost:8888/'. Verify the server is running and reachable. (request to http://localhost:8888/api/kernels?1669024494820 failed, reason: connect ECONNREFUSED 127.0.0.1:8888)."
     ]
    }
   ],
   "source": [
    "#train=train.drop('label',axis=1)\n",
    "xtrain=train.iloc[:,:-1]\n",
    "ytrain=train.activity\n",
    "#print(xtrain)\n",
    "#print(ytrain)\n",
    "print(xtrain.shape)\n"
   ]
  },
  {
   "cell_type": "code",
   "execution_count": null,
   "id": "d29932f5",
   "metadata": {
    "vscode": {
     "languageId": "python"
    }
   },
   "outputs": [
    {
     "ename": "",
     "evalue": "",
     "output_type": "error",
     "traceback": [
      "\u001b[1;31mFailed to connect to the remote Jupyter Server 'http://localhost:8888/'. Verify the server is running and reachable. (request to http://localhost:8888/api/kernels?1669024494820 failed, reason: connect ECONNREFUSED 127.0.0.1:8888)."
     ]
    }
   ],
   "source": [
    "from sklearn.preprocessing import MinMaxScaler\n",
    "\n",
    "scaler=MinMaxScaler()\n",
    "xtr=scaler.fit_transform(xtrain)"
   ]
  },
  {
   "cell_type": "markdown",
   "id": "db673954",
   "metadata": {},
   "source": [
    "# test data\n"
   ]
  },
  {
   "cell_type": "code",
   "execution_count": null,
   "id": "a0b8b283",
   "metadata": {
    "vscode": {
     "languageId": "python"
    }
   },
   "outputs": [
    {
     "ename": "",
     "evalue": "",
     "output_type": "error",
     "traceback": [
      "\u001b[1;31mFailed to connect to the remote Jupyter Server 'http://localhost:8888/'. Verify the server is running and reachable. (request to http://localhost:8888/api/kernels?1669024494820 failed, reason: connect ECONNREFUSED 127.0.0.1:8888)."
     ]
    }
   ],
   "source": [
    "test = pd.read_csv(\"Test.csv\")"
   ]
  },
  {
   "cell_type": "code",
   "execution_count": null,
   "id": "0c33b3ed",
   "metadata": {
    "vscode": {
     "languageId": "python"
    }
   },
   "outputs": [
    {
     "ename": "",
     "evalue": "",
     "output_type": "error",
     "traceback": [
      "\u001b[1;31mFailed to connect to the remote Jupyter Server 'http://localhost:8888/'. Verify the server is running and reachable. (request to http://localhost:8888/api/kernels?1669024494820 failed, reason: connect ECONNREFUSED 127.0.0.1:8888)."
     ]
    }
   ],
   "source": [
    "test.head()"
   ]
  },
  {
   "cell_type": "code",
   "execution_count": null,
   "id": "c04d2ecc",
   "metadata": {
    "vscode": {
     "languageId": "python"
    }
   },
   "outputs": [
    {
     "ename": "",
     "evalue": "",
     "output_type": "error",
     "traceback": [
      "\u001b[1;31mFailed to connect to the remote Jupyter Server 'http://localhost:8888/'. Verify the server is running and reachable. (request to http://localhost:8888/api/kernels?1669024494820 failed, reason: connect ECONNREFUSED 127.0.0.1:8888)."
     ]
    }
   ],
   "source": [
    "test=test.drop('fall',axis=1)\n",
    "\n",
    "fall=[\"FOL\",\"FKL\",\"SDL\",\"BSC\"]\n",
    "active=[\"STD\",\"WAL\",\"JOG\",\"JUM\"]\n",
    "asds=[\"STU\",\"STN\",\"SCH\",\"CSI\",\"CSO\"]\n",
    "\n",
    "act=[]\n",
    "\n",
    "for i in range (len(test)):\n",
    "    if test[\"label\"][i] in fall:\n",
    "        act.append(0)\n",
    "    elif test[\"label\"][i] in active:\n",
    "        act.append(1)\n",
    "    elif test[\"label\"][i] in asds:\n",
    "        act.append(2)\n",
    "test[\"activity\"]=act\n",
    "\n",
    "test.head()"
   ]
  },
  {
   "cell_type": "code",
   "execution_count": null,
   "id": "af72fcf0",
   "metadata": {
    "vscode": {
     "languageId": "python"
    }
   },
   "outputs": [
    {
     "ename": "",
     "evalue": "",
     "output_type": "error",
     "traceback": [
      "\u001b[1;31mFailed to connect to the remote Jupyter Server 'http://localhost:8888/'. Verify the server is running and reachable. (request to http://localhost:8888/api/kernels?1669024494820 failed, reason: connect ECONNREFUSED 127.0.0.1:8888)."
     ]
    }
   ],
   "source": [
    "test=test.drop('label',axis=1)\n",
    "xtest=test.iloc[:,:-1]\n",
    "ytest=test.activity\n",
    "#print(xtest)\n",
    "#print(ytest)\n",
    "print(xtest.shape)\n"
   ]
  },
  {
   "cell_type": "code",
   "execution_count": null,
   "id": "8c5ebf72",
   "metadata": {
    "vscode": {
     "languageId": "python"
    }
   },
   "outputs": [
    {
     "ename": "",
     "evalue": "",
     "output_type": "error",
     "traceback": [
      "\u001b[1;31mFailed to connect to the remote Jupyter Server 'http://localhost:8888/'. Verify the server is running and reachable. (request to http://localhost:8888/api/kernels?1669024494820 failed, reason: connect ECONNREFUSED 127.0.0.1:8888)."
     ]
    }
   ],
   "source": [
    "from sklearn.preprocessing import MinMaxScaler\n",
    "\n",
    "scaler=MinMaxScaler()\n",
    "xts=scaler.fit_transform(xtest)"
   ]
  },
  {
   "cell_type": "markdown",
   "id": "8f848e74",
   "metadata": {},
   "source": [
    "## knn classifier"
   ]
  },
  {
   "cell_type": "code",
   "execution_count": null,
   "id": "57710e7d",
   "metadata": {
    "vscode": {
     "languageId": "python"
    }
   },
   "outputs": [
    {
     "ename": "",
     "evalue": "",
     "output_type": "error",
     "traceback": [
      "\u001b[1;31mFailed to connect to the remote Jupyter Server 'http://localhost:8888/'. Verify the server is running and reachable. (request to http://localhost:8888/api/kernels?1669024494820 failed, reason: connect ECONNREFUSED 127.0.0.1:8888)."
     ]
    }
   ],
   "source": [
    "from sklearn.neighbors import KNeighborsClassifier\n",
    "from sklearn.metrics import accuracy_score\n",
    "from sklearn.metrics import confusion_matrix\n",
    "\n",
    "k=10\n",
    "classifier=KNeighborsClassifier(n_neighbors=k)\n",
    "classifier.fit(xtr,ytrain)\n",
    "pred=classifier.predict(xts)\n",
    "score1=accuracy_score(ytest,pred)\n",
    "print(\"accuracy : \",score1)\n",
    "c=confusion_matrix(ytest,pred)\n",
    "print(c)"
   ]
  },
  {
   "cell_type": "code",
   "execution_count": null,
   "id": "3e986225",
   "metadata": {
    "vscode": {
     "languageId": "python"
    }
   },
   "outputs": [
    {
     "ename": "",
     "evalue": "",
     "output_type": "error",
     "traceback": [
      "\u001b[1;31mFailed to connect to the remote Jupyter Server 'http://localhost:8888/'. Verify the server is running and reachable. (request to http://localhost:8888/api/kernels?1669024494820 failed, reason: connect ECONNREFUSED 127.0.0.1:8888)."
     ]
    }
   ],
   "source": [
    "res=classifier.predict([xts[87]])\n",
    "#print(type(res))\n",
    "if res[0]==0:\n",
    "    print(\"person was falling\")\n",
    "elif res[0]==1:\n",
    "    print('person was active')\n",
    "elif res[0]==2:\n",
    "    print('person was ascending descending')"
   ]
  },
  {
   "cell_type": "code",
   "execution_count": null,
   "id": "f9c0e4c2",
   "metadata": {
    "vscode": {
     "languageId": "python"
    }
   },
   "outputs": [
    {
     "ename": "",
     "evalue": "",
     "output_type": "error",
     "traceback": [
      "\u001b[1;31mFailed to connect to the remote Jupyter Server 'http://localhost:8888/'. Verify the server is running and reachable. (request to http://localhost:8888/api/kernels?1669024494820 failed, reason: connect ECONNREFUSED 127.0.0.1:8888)."
     ]
    }
   ],
   "source": []
  }
 ],
 "metadata": {
  "kernelspec": {
   "display_name": "Python 3 (ipykernel)",
   "language": "python",
   "name": "python3"
  }
 },
 "nbformat": 4,
 "nbformat_minor": 5
}
